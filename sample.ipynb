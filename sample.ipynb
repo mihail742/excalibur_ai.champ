{
 "cells": [
  {
   "metadata": {},
   "cell_type": "markdown",
   "source": [
    "# This is a sample Jupyter Notebook\n",
    "\n",
    "Below is an example of a code cell. \n",
    "Put your cursor into the cell and press Shift+Enter to execute it and select the next one, or click 'Run Cell' button.\n",
    "\n",
    "Press Double Shift to search everywhere for classes, files, tool windows, actions, and settings.\n",
    "\n",
    "To learn more about Jupyter Notebooks in PyCharm, see [help](https://www.jetbrains.com/help/pycharm/ipython-notebook-support.html).\n",
    "For an overview of PyCharm, go to Help -> Learn IDE features or refer to [our documentation](https://www.jetbrains.com/help/pycharm/getting-started.html)."
   ],
   "id": "8a77807f92f26ee"
  },
  {
   "metadata": {
    "ExecuteTime": {
     "end_time": "2024-09-30T15:41:42.625215Z",
     "start_time": "2024-09-30T15:41:42.166064Z"
    }
   },
   "cell_type": "code",
   "source": [
    "import numpy as np\n",
    "from debugpy.common.json import array"
   ],
   "id": "fbc121e30a2defb3",
   "outputs": [],
   "execution_count": 1
  },
  {
   "metadata": {
    "ExecuteTime": {
     "end_time": "2024-09-30T15:45:01.505616Z",
     "start_time": "2024-09-30T15:45:01.500349Z"
    }
   },
   "cell_type": "code",
   "source": [
    "numbers=[1,2,3,4,5]\n",
    "res=[element1 + element2 for element1,element2 in zip(numbers,numbers)]\n",
    "print(res)"
   ],
   "id": "84b15cc9fdd80afd",
   "outputs": [
    {
     "name": "stdout",
     "output_type": "stream",
     "text": [
      "[2, 4, 6, 8, 10]\n"
     ]
    }
   ],
   "execution_count": 4
  },
  {
   "metadata": {
    "ExecuteTime": {
     "end_time": "2024-09-30T15:46:26.679595Z",
     "start_time": "2024-09-30T15:46:26.670298Z"
    }
   },
   "cell_type": "code",
   "source": [
    "array=np.array([1,2,3,4])\n",
    "result= array + array\n",
    "print(result)\n"
   ],
   "id": "6285d41d0fed76ad",
   "outputs": [
    {
     "name": "stdout",
     "output_type": "stream",
     "text": [
      "[2 4 6 8]\n"
     ]
    }
   ],
   "execution_count": 5
  },
  {
   "metadata": {
    "ExecuteTime": {
     "end_time": "2024-09-30T15:50:17.310729Z",
     "start_time": "2024-09-30T15:50:17.302722Z"
    }
   },
   "cell_type": "code",
   "source": [
    "print(np.int8(42))\n",
    "print(np.int16(42))\n",
    "print(np.int32(42))\n",
    "print(np.int64(42))\n",
    "\n",
    "print(np.float16(42))\n",
    "print(np.float32(42))\n",
    "print(np.float64(42))\n",
    "\n",
    "print(np.complex64(42+42j))\n",
    "\n",
    "print(np.bool_(True))"
   ],
   "id": "90787f6b65062742",
   "outputs": [
    {
     "name": "stdout",
     "output_type": "stream",
     "text": [
      "42\n",
      "42\n",
      "42\n",
      "42\n",
      "42.0\n",
      "42.0\n",
      "42.0\n",
      "(42+42j)\n",
      "True\n"
     ]
    }
   ],
   "execution_count": 6
  },
  {
   "metadata": {
    "ExecuteTime": {
     "end_time": "2024-09-30T15:59:13.266513Z",
     "start_time": "2024-09-30T15:59:13.260966Z"
    }
   },
   "cell_type": "code",
   "source": [
    " import time \n",
    " import sys"
   ],
   "id": "b2c0937e71964b03",
   "outputs": [],
   "execution_count": 16
  },
  {
   "metadata": {
    "ExecuteTime": {
     "end_time": "2024-09-30T15:57:04.429911Z",
     "start_time": "2024-09-30T15:56:49.910544Z"
    }
   },
   "cell_type": "code",
   "source": [
    "my_list=list(range(100000000))\n",
    "start_time=time.time()\n",
    "new_list= [element+2 for element in my_list]\n",
    "print(f\"List time is: {time.time()-start_time}\")\n",
    "\n",
    "my_array = np.arange(100000000)\n",
    "start_time=time.time()\n",
    "new_array= my_array *2\n",
    "print(f\"Array time is: {time.time()-start_time}\")"
   ],
   "id": "a0375b29612e86d8",
   "outputs": [
    {
     "name": "stdout",
     "output_type": "stream",
     "text": [
      "List time is: 11.172430992126465\n",
      "Array time is: 0.6262421607971191\n"
     ]
    }
   ],
   "execution_count": 11
  },
  {
   "metadata": {
    "ExecuteTime": {
     "end_time": "2024-09-30T15:59:16.423896Z",
     "start_time": "2024-09-30T15:59:16.388575Z"
    }
   },
   "cell_type": "code",
   "source": [
    "my_list = list(range(1000000))\n",
    "print(sys.getsizeof(my_list))\n",
    "my_array = np.arange(1000000)\n",
    "print(sys.getsizeof(my_array))"
   ],
   "id": "4a9efa4d3d13112c",
   "outputs": [
    {
     "name": "stdout",
     "output_type": "stream",
     "text": [
      "8000056\n",
      "4000112\n"
     ]
    }
   ],
   "execution_count": 17
  },
  {
   "metadata": {
    "ExecuteTime": {
     "end_time": "2024-09-30T16:01:58.487372Z",
     "start_time": "2024-09-30T16:01:56.886240Z"
    }
   },
   "cell_type": "code",
   "source": [
    "array_8bit = np.arage(100000, dtype=np.int8)\n",
    "array_16bit = np.arange(100000, dtype=np.int16)"
   ],
   "id": "ff63cebe2947a2f7",
   "outputs": [
    {
     "ename": "AttributeError",
     "evalue": "module 'numpy' has no attribute 'arage'",
     "output_type": "error",
     "traceback": [
      "\u001B[1;31m---------------------------------------------------------------------------\u001B[0m",
      "\u001B[1;31mAttributeError\u001B[0m                            Traceback (most recent call last)",
      "Cell \u001B[1;32mIn[18], line 1\u001B[0m\n\u001B[1;32m----> 1\u001B[0m array_8bit \u001B[38;5;241m=\u001B[39m np\u001B[38;5;241m.\u001B[39marage(\u001B[38;5;241m100000\u001B[39m, dtype\u001B[38;5;241m=\u001B[39mnp\u001B[38;5;241m.\u001B[39mint8)\n\u001B[0;32m      2\u001B[0m array_16bit \u001B[38;5;241m=\u001B[39m np\u001B[38;5;241m.\u001B[39marange(\u001B[38;5;241m100000\u001B[39m, dtype\u001B[38;5;241m=\u001B[39mnp\u001B[38;5;241m.\u001B[39mint16)\n",
      "File \u001B[1;32m~\\miniconda3\\Lib\\site-packages\\numpy\\__init__.py:333\u001B[0m, in \u001B[0;36m__getattr__\u001B[1;34m(attr)\u001B[0m\n\u001B[0;32m    330\u001B[0m     \u001B[38;5;124m\"\u001B[39m\u001B[38;5;124mRemoved in NumPy 1.25.0\u001B[39m\u001B[38;5;124m\"\u001B[39m\n\u001B[0;32m    331\u001B[0m     \u001B[38;5;28;01mraise\u001B[39;00m \u001B[38;5;167;01mRuntimeError\u001B[39;00m(\u001B[38;5;124m\"\u001B[39m\u001B[38;5;124mTester was removed in NumPy 1.25.\u001B[39m\u001B[38;5;124m\"\u001B[39m)\n\u001B[1;32m--> 333\u001B[0m \u001B[38;5;28;01mraise\u001B[39;00m \u001B[38;5;167;01mAttributeError\u001B[39;00m(\u001B[38;5;124m\"\u001B[39m\u001B[38;5;124mmodule \u001B[39m\u001B[38;5;132;01m{!r}\u001B[39;00m\u001B[38;5;124m has no attribute \u001B[39m\u001B[38;5;124m\"\u001B[39m\n\u001B[0;32m    334\u001B[0m                      \u001B[38;5;124m\"\u001B[39m\u001B[38;5;132;01m{!r}\u001B[39;00m\u001B[38;5;124m\"\u001B[39m\u001B[38;5;241m.\u001B[39mformat(\u001B[38;5;18m__name__\u001B[39m, attr))\n",
      "\u001B[1;31mAttributeError\u001B[0m: module 'numpy' has no attribute 'arage'"
     ]
    }
   ],
   "execution_count": 18
  },
  {
   "metadata": {
    "ExecuteTime": {
     "end_time": "2024-09-30T16:03:17.175110Z",
     "start_time": "2024-09-30T16:03:17.169086Z"
    }
   },
   "cell_type": "code",
   "source": [
    "arr_1d=np.array([1,2,3,4,5])\n",
    "print(\"shape \", arr_1d.shape)"
   ],
   "id": "5c6283cdf55c9f51",
   "outputs": [
    {
     "name": "stdout",
     "output_type": "stream",
     "text": [
      "shape  (5,)\n"
     ]
    }
   ],
   "execution_count": 19
  },
  {
   "metadata": {
    "ExecuteTime": {
     "end_time": "2024-09-30T16:06:28.040428Z",
     "start_time": "2024-09-30T16:06:28.035621Z"
    }
   },
   "cell_type": "code",
   "source": [
    "arr_2d = np.array([[1, 2], [3, 4]])\n",
    "print(\"shape \", arr_2d.shape)"
   ],
   "id": "4c11ba9c809f105",
   "outputs": [
    {
     "name": "stdout",
     "output_type": "stream",
     "text": [
      "shape  (2, 2)\n"
     ]
    }
   ],
   "execution_count": 22
  },
  {
   "metadata": {
    "ExecuteTime": {
     "end_time": "2024-09-30T16:09:33.907463Z",
     "start_time": "2024-09-30T16:09:33.899395Z"
    }
   },
   "cell_type": "code",
   "source": [
    "arr=np.array([1,2,3,4,5,6,7,8])\n",
    "print(arr)\n",
    "print(arr.shape)\n",
    "arr_2=arr.reshape(2,4)\n",
    "print(arr_2)\n",
    "arr3=arr.reshape(2,2,2)\n",
    "print(arr3)\n",
    "print(arr3.shape)\n"
   ],
   "id": "4be75adb06c94d98",
   "outputs": [
    {
     "name": "stdout",
     "output_type": "stream",
     "text": [
      "[1 2 3 4 5 6 7 8]\n",
      "(8,)\n",
      "[[1 2 3 4]\n",
      " [5 6 7 8]]\n",
      "[[[1 2]\n",
      "  [3 4]]\n",
      "\n",
      " [[5 6]\n",
      "  [7 8]]]\n",
      "(2, 2, 2)\n"
     ]
    }
   ],
   "execution_count": 24
  },
  {
   "metadata": {
    "ExecuteTime": {
     "end_time": "2024-09-30T16:10:24.238211Z",
     "start_time": "2024-09-30T16:10:24.208991Z"
    }
   },
   "cell_type": "code",
   "source": "np.arange(0,10,2)",
   "id": "d58238b4c8f86cb1",
   "outputs": [
    {
     "data": {
      "text/plain": [
       "array([0, 2, 4, 6, 8])"
      ]
     },
     "execution_count": 25,
     "metadata": {},
     "output_type": "execute_result"
    }
   ],
   "execution_count": 25
  },
  {
   "metadata": {
    "ExecuteTime": {
     "end_time": "2024-09-30T16:12:34.394657Z",
     "start_time": "2024-09-30T16:12:34.385666Z"
    }
   },
   "cell_type": "code",
   "source": "np.linspace(10,50,30)",
   "id": "b2231cf4858f1617",
   "outputs": [
    {
     "data": {
      "text/plain": [
       "array([10.        , 11.37931034, 12.75862069, 14.13793103, 15.51724138,\n",
       "       16.89655172, 18.27586207, 19.65517241, 21.03448276, 22.4137931 ,\n",
       "       23.79310345, 25.17241379, 26.55172414, 27.93103448, 29.31034483,\n",
       "       30.68965517, 32.06896552, 33.44827586, 34.82758621, 36.20689655,\n",
       "       37.5862069 , 38.96551724, 40.34482759, 41.72413793, 43.10344828,\n",
       "       44.48275862, 45.86206897, 47.24137931, 48.62068966, 50.        ])"
      ]
     },
     "execution_count": 27,
     "metadata": {},
     "output_type": "execute_result"
    }
   ],
   "execution_count": 27
  },
  {
   "metadata": {
    "ExecuteTime": {
     "end_time": "2024-09-30T16:13:13.455087Z",
     "start_time": "2024-09-30T16:13:13.445983Z"
    }
   },
   "cell_type": "code",
   "source": "np.zeros((2,3))",
   "id": "ab98d69da2b3d9c6",
   "outputs": [
    {
     "data": {
      "text/plain": [
       "array([[0., 0., 0.],\n",
       "       [0., 0., 0.]])"
      ]
     },
     "execution_count": 29,
     "metadata": {},
     "output_type": "execute_result"
    }
   ],
   "execution_count": 29
  },
  {
   "metadata": {
    "ExecuteTime": {
     "end_time": "2024-09-30T16:13:50.105864Z",
     "start_time": "2024-09-30T16:13:50.099689Z"
    }
   },
   "cell_type": "code",
   "source": "np.ones((3,4))",
   "id": "26792bab97e2ef38",
   "outputs": [
    {
     "data": {
      "text/plain": [
       "array([[1., 1., 1., 1.],\n",
       "       [1., 1., 1., 1.],\n",
       "       [1., 1., 1., 1.]])"
      ]
     },
     "execution_count": 30,
     "metadata": {},
     "output_type": "execute_result"
    }
   ],
   "execution_count": 30
  },
  {
   "metadata": {
    "ExecuteTime": {
     "end_time": "2024-09-30T16:14:20.194493Z",
     "start_time": "2024-09-30T16:14:20.187776Z"
    }
   },
   "cell_type": "code",
   "source": "np.eye(6)",
   "id": "f6183e782c021bb5",
   "outputs": [
    {
     "data": {
      "text/plain": [
       "array([[1., 0., 0., 0., 0., 0.],\n",
       "       [0., 1., 0., 0., 0., 0.],\n",
       "       [0., 0., 1., 0., 0., 0.],\n",
       "       [0., 0., 0., 1., 0., 0.],\n",
       "       [0., 0., 0., 0., 1., 0.],\n",
       "       [0., 0., 0., 0., 0., 1.]])"
      ]
     },
     "execution_count": 31,
     "metadata": {},
     "output_type": "execute_result"
    }
   ],
   "execution_count": 31
  },
  {
   "metadata": {},
   "cell_type": "markdown",
   "source": "",
   "id": "aa8502ded56fa368"
  },
  {
   "metadata": {
    "ExecuteTime": {
     "end_time": "2024-09-30T16:15:35.049818Z",
     "start_time": "2024-09-30T16:15:35.038298Z"
    }
   },
   "cell_type": "code",
   "source": "np.random.rand(4,15)",
   "id": "93daacb336811fe9",
   "outputs": [
    {
     "data": {
      "text/plain": [
       "array([[0.23248825, 0.53964509, 0.92154968, 0.26361148, 0.2942021 ,\n",
       "        0.96355353, 0.59684127, 0.07603242, 0.33064018, 0.84725706,\n",
       "        0.94741261, 0.73732632, 0.99539611, 0.11055689, 0.11337538],\n",
       "       [0.31125124, 0.45730548, 0.22902538, 0.74038682, 0.69624213,\n",
       "        0.85843913, 0.57397475, 0.23970598, 0.37810511, 0.43956936,\n",
       "        0.9371265 , 0.84348873, 0.70175178, 0.45612452, 0.40140479],\n",
       "       [0.56194263, 0.50070574, 0.15621869, 0.25904304, 0.50125088,\n",
       "        0.44400252, 0.48083451, 0.41523483, 0.05608614, 0.35491434,\n",
       "        0.17290376, 0.29652837, 0.18863452, 0.56928136, 0.60697897],\n",
       "       [0.31204377, 0.93568604, 0.45907665, 0.55681436, 0.31238177,\n",
       "        0.97226029, 0.58046273, 0.19809021, 0.86707564, 0.45551252,\n",
       "        0.84119878, 0.98950953, 0.09716721, 0.83396372, 0.64272436]])"
      ]
     },
     "execution_count": 32,
     "metadata": {},
     "output_type": "execute_result"
    }
   ],
   "execution_count": 32
  },
  {
   "metadata": {
    "ExecuteTime": {
     "end_time": "2024-09-30T16:21:57.325395Z",
     "start_time": "2024-09-30T16:21:57.319360Z"
    }
   },
   "cell_type": "code",
   "source": "ceva=np.random.rand(4,4,5,6,7,8,9,0)",
   "id": "57c22aa9bd8d94a7",
   "outputs": [],
   "execution_count": 53
  },
  {
   "metadata": {
    "ExecuteTime": {
     "end_time": "2024-09-30T16:19:44.788605Z",
     "start_time": "2024-09-30T16:19:44.782592Z"
    }
   },
   "cell_type": "code",
   "source": "ceva.shape",
   "id": "222135b29913e522",
   "outputs": [
    {
     "data": {
      "text/plain": [
       "(4, 4, 5, 6, 7, 8, 9, 0)"
      ]
     },
     "execution_count": 46,
     "metadata": {},
     "output_type": "execute_result"
    }
   ],
   "execution_count": 46
  },
  {
   "metadata": {
    "ExecuteTime": {
     "end_time": "2024-09-30T16:19:46.710468Z",
     "start_time": "2024-09-30T16:19:46.703748Z"
    }
   },
   "cell_type": "code",
   "source": "ceva.ndim",
   "id": "757cc21c5127e3a2",
   "outputs": [
    {
     "data": {
      "text/plain": [
       "8"
      ]
     },
     "execution_count": 47,
     "metadata": {},
     "output_type": "execute_result"
    }
   ],
   "execution_count": 47
  },
  {
   "metadata": {
    "ExecuteTime": {
     "end_time": "2024-09-30T16:19:48.432879Z",
     "start_time": "2024-09-30T16:19:48.427058Z"
    }
   },
   "cell_type": "code",
   "source": "ceva.size",
   "id": "dc37e4016f4f71aa",
   "outputs": [
    {
     "data": {
      "text/plain": [
       "0"
      ]
     },
     "execution_count": 48,
     "metadata": {},
     "output_type": "execute_result"
    }
   ],
   "execution_count": 48
  },
  {
   "metadata": {
    "ExecuteTime": {
     "end_time": "2024-09-30T16:20:42.089422Z",
     "start_time": "2024-09-30T16:20:42.083861Z"
    }
   },
   "cell_type": "code",
   "source": "ceva.dtype",
   "id": "4f168a9763751956",
   "outputs": [
    {
     "data": {
      "text/plain": [
       "dtype('float64')"
      ]
     },
     "execution_count": 49,
     "metadata": {},
     "output_type": "execute_result"
    }
   ],
   "execution_count": 49
  },
  {
   "metadata": {
    "ExecuteTime": {
     "end_time": "2024-09-30T16:21:11.596031Z",
     "start_time": "2024-09-30T16:21:11.571465Z"
    }
   },
   "cell_type": "code",
   "source": "ceva.itemsize",
   "id": "1b16ff68c9280eb5",
   "outputs": [
    {
     "data": {
      "text/plain": [
       "8"
      ]
     },
     "execution_count": 50,
     "metadata": {},
     "output_type": "execute_result"
    }
   ],
   "execution_count": 50
  },
  {
   "metadata": {
    "ExecuteTime": {
     "end_time": "2024-09-30T16:22:01.543742Z",
     "start_time": "2024-09-30T16:22:01.539688Z"
    }
   },
   "cell_type": "code",
   "source": "ceva=ceva.astype(int)",
   "id": "b749e9a4f6eafcd1",
   "outputs": [],
   "execution_count": 55
  },
  {
   "metadata": {
    "ExecuteTime": {
     "end_time": "2024-09-30T16:22:15.833065Z",
     "start_time": "2024-09-30T16:22:15.827308Z"
    }
   },
   "cell_type": "code",
   "source": "ceva.itemsize",
   "id": "9815245e8c856df5",
   "outputs": [
    {
     "data": {
      "text/plain": [
       "4"
      ]
     },
     "execution_count": 56,
     "metadata": {},
     "output_type": "execute_result"
    }
   ],
   "execution_count": 56
  },
  {
   "metadata": {
    "ExecuteTime": {
     "end_time": "2024-09-30T16:24:02.999463Z",
     "start_time": "2024-09-30T16:24:02.992628Z"
    }
   },
   "cell_type": "code",
   "source": [
    "altcv =np.array([1,2,3,4,5,6,7,8,9,0])\n",
    "print(altcv[0])\n",
    "print(altcv[-1])\n",
    "print(altcv[::-1])"
   ],
   "id": "bf9807edaab2962a",
   "outputs": [
    {
     "name": "stdout",
     "output_type": "stream",
     "text": [
      "1\n",
      "0\n",
      "[0 9 8 7 6 5 4 3 2 1]\n"
     ]
    }
   ],
   "execution_count": 57
  },
  {
   "metadata": {
    "ExecuteTime": {
     "end_time": "2024-09-30T16:26:14.054950Z",
     "start_time": "2024-09-30T16:26:14.048435Z"
    }
   },
   "cell_type": "code",
   "source": [
    "altcv=np.array([[1,2,3,4],[5,6,7,8]])\n",
    "print(altcv[0:,:2])"
   ],
   "id": "db05e5aee83753c0",
   "outputs": [
    {
     "name": "stdout",
     "output_type": "stream",
     "text": [
      "[[1 2]\n",
      " [5 6]]\n"
     ]
    }
   ],
   "execution_count": 58
  },
  {
   "metadata": {
    "ExecuteTime": {
     "end_time": "2024-09-30T16:27:53.526542Z",
     "start_time": "2024-09-30T16:27:53.520921Z"
    }
   },
   "cell_type": "code",
   "source": [
    "altcv = np.array([[1, 2, 3, 4], [5, 6, 7, 8]])\n",
    "m=altcv %2==0\n",
    "print(altcv[m])"
   ],
   "id": "9902203c3cf5d912",
   "outputs": [
    {
     "name": "stdout",
     "output_type": "stream",
     "text": [
      "[2 4 6 8]\n"
     ]
    }
   ],
   "execution_count": 60
  },
  {
   "metadata": {
    "ExecuteTime": {
     "end_time": "2024-09-30T16:34:42.283043Z",
     "start_time": "2024-09-30T16:34:42.275262Z"
    }
   },
   "cell_type": "code",
   "source": [
    "arr1=np.array([1,2,3,4,5,6,7])\n",
    "arr2=np.array([1,2,3,4,5,6,7])\n",
    "print(arr1+arr2)\n",
    "print(arr1-arr2)\n",
    "print(arr1*arr2)\n",
    "print(arr1/arr2)"
   ],
   "id": "8ffa42f5af48547d",
   "outputs": [
    {
     "name": "stdout",
     "output_type": "stream",
     "text": [
      "[ 2  4  6  8 10 12 14]\n",
      "[0 0 0 0 0 0 0]\n",
      "[ 1  4  9 16 25 36 49]\n",
      "[1. 1. 1. 1. 1. 1. 1.]\n"
     ]
    }
   ],
   "execution_count": 61
  },
  {
   "metadata": {
    "ExecuteTime": {
     "end_time": "2024-09-30T16:39:05.094370Z",
     "start_time": "2024-09-30T16:39:05.086411Z"
    }
   },
   "cell_type": "code",
   "source": [
    "alt = np.array([[1, 2, 3, 4], [5, 6, 7, 8]])\n",
    "print(np.max(alt))\n",
    "print(alt.max())\n",
    "print(np.min(alt))\n",
    "print(alt.min())\n",
    "print(alt.mean())\n",
    "print(alt.sum())\n",
    "print(alt.std())"
   ],
   "id": "786ab319815ca1d",
   "outputs": [
    {
     "name": "stdout",
     "output_type": "stream",
     "text": [
      "8\n",
      "8\n",
      "1\n",
      "1\n",
      "4.5\n",
      "36\n",
      "2.29128784747792\n"
     ]
    }
   ],
   "execution_count": 63
  },
  {
   "metadata": {},
   "cell_type": "markdown",
   "source": "imultirea matricilor",
   "id": "327c345f44edeb91"
  },
  {
   "metadata": {
    "ExecuteTime": {
     "end_time": "2024-09-30T16:49:52.018124Z",
     "start_time": "2024-09-30T16:49:52.008900Z"
    }
   },
   "cell_type": "code",
   "source": [
    "a=np.array([[1,2],[3,4]])\n",
    "b=np.array([[1,2],[3,4]])\n",
    "np.dot(a,b)"
   ],
   "id": "23582b3bb8d07717",
   "outputs": [
    {
     "data": {
      "text/plain": [
       "array([[ 7, 10],\n",
       "       [15, 22]])"
      ]
     },
     "execution_count": 64,
     "metadata": {},
     "output_type": "execute_result"
    }
   ],
   "execution_count": 64
  },
  {
   "metadata": {},
   "cell_type": "code",
   "outputs": [],
   "execution_count": null,
   "source": "",
   "id": "58a6b0f673e00b67"
  }
 ],
 "metadata": {
  "kernelspec": {
   "display_name": "Python 3",
   "language": "python",
   "name": "python3"
  },
  "language_info": {
   "codemirror_mode": {
    "name": "ipython",
    "version": 2
   },
   "file_extension": ".py",
   "mimetype": "text/x-python",
   "name": "python",
   "nbconvert_exporter": "python",
   "pygments_lexer": "ipython2",
   "version": "2.7.6"
  }
 },
 "nbformat": 4,
 "nbformat_minor": 5
}
